{
  "nbformat": 4,
  "nbformat_minor": 0,
  "metadata": {
    "colab": {
      "name": "ColabMisc.ipynb",
      "version": "0.3.2",
      "provenance": [],
      "collapsed_sections": [],
      "include_colab_link": true
    },
    "kernelspec": {
      "name": "python3",
      "display_name": "Python 3"
    }
  },
  "cells": [
    {
      "cell_type": "markdown",
      "metadata": {
        "id": "view-in-github",
        "colab_type": "text"
      },
      "source": [
        "<a href=\"https://colab.research.google.com/github/mainak555/lb-ai/blob/ai/ColabMisc.ipynb\" target=\"_parent\"><img src=\"https://colab.research.google.com/assets/colab-badge.svg\" alt=\"Open In Colab\"/></a>"
      ]
    },
    {
      "cell_type": "code",
      "metadata": {
        "id": "Ns93xAciZ7iJ",
        "colab_type": "code",
        "colab": {}
      },
      "source": [
        "# Upload a Python file & Import in CoLab\n",
        "from google.colab import files\n",
        "src = list(files.upload().values())[0]\n",
        "print(src)\n",
        "src = list(files.upload().values())[0]\n",
        "open('mylib.py','wb').write(src)\n",
        "import mylib"
      ],
      "execution_count": 0,
      "outputs": []
    },
    {
      "cell_type": "markdown",
      "metadata": {
        "id": "C-uRKbjuakyH",
        "colab_type": "text"
      },
      "source": [
        "**Importing Your Own Python Module or Python File in Colaboratory**\n"
      ]
    },
    {
      "cell_type": "code",
      "metadata": {
        "id": "pbLPhukpapLd",
        "colab_type": "code",
        "colab": {}
      },
      "source": [
        "#Authenticate Google Drive Access\n",
        "from pydrive.auth import GoogleAuth\n",
        "from pydrive.drive import GoogleDrive\n",
        "from google.colab import auth\n",
        "from oauth2client.client import GoogleCredentials\n",
        "\n",
        "auth.authenticate_user()\n",
        "gauth = GoogleAuth()\n",
        "gauth.credentials = GoogleCredentials.get_application_default()\n",
        "drive = GoogleDrive(gauth)"
      ],
      "execution_count": 0,
      "outputs": []
    },
    {
      "cell_type": "code",
      "metadata": {
        "id": "L-ZsdnHja5yh",
        "colab_type": "code",
        "colab": {}
      },
      "source": [
        "#Linking Colab Notebook to the Module\n",
        "your_module = drive.CreateFile({'id':'[google_drive_file_id]'})"
      ],
      "execution_count": 0,
      "outputs": []
    },
    {
      "cell_type": "code",
      "metadata": {
        "id": "XJmFi5DLbFD1",
        "colab_type": "code",
        "colab": {}
      },
      "source": [
        "your_module.GetContentFile('module_name.py')\n",
        "import module_name"
      ],
      "execution_count": 0,
      "outputs": []
    },
    {
      "cell_type": "markdown",
      "metadata": {
        "id": "QGVZ7R6tjCcT",
        "colab_type": "text"
      },
      "source": [
        "**External data: Drive, Sheets, and Cloud Storage**\n",
        "https://colab.research.google.com/notebooks/io.ipynb#scrollTo=r-exJtdG3XwJ\n"
      ]
    },
    {
      "cell_type": "code",
      "metadata": {
        "id": "1eYBD0N_jQfV",
        "colab_type": "code",
        "colab": {}
      },
      "source": [
        "from google.colab import auth\n",
        "auth.authenticate_user()"
      ],
      "execution_count": 0,
      "outputs": []
    },
    {
      "cell_type": "code",
      "metadata": {
        "id": "naQOKfzDjLsF",
        "colab_type": "code",
        "colab": {}
      },
      "source": [
        "from googleapiclient.discovery import build\n",
        "drive_service = build('drive', 'v3')\n",
        "\n",
        "import io\n",
        "from googleapiclient.http import MediaIoBaseDownload\n",
        "\n",
        "request = drive_service.files().get_media(fileId='1_bGw2qVLG_kRh4pzzceRdVHy82ANnk0C')\n",
        "downloaded = io.BytesIO()\n",
        "downloader = MediaIoBaseDownload(downloaded, request)\n",
        "done = False\n",
        "while done is False:\n",
        "  # _ is a placeholder for a progress object that we ignore.\n",
        "  # (Our file is small, so we skip reporting progress.)\n",
        "  _, done = downloader.next_chunk()\n",
        "\n",
        "downloaded.seek(0)\n",
        "print('Downloaded file contents are: {}'.format(downloaded.read()))"
      ],
      "execution_count": 0,
      "outputs": []
    },
    {
      "cell_type": "markdown",
      "metadata": {
        "id": "mf7E5mxXmSnI",
        "colab_type": "text"
      },
      "source": [
        "**Import ipynb from google Drive to Colab**"
      ]
    },
    {
      "cell_type": "code",
      "metadata": {
        "id": "Pc9PRBFPmZtt",
        "colab_type": "code",
        "colab": {}
      },
      "source": [
        "!pip install import-ipynb\n",
        "import import_ipynb\n",
        "\n",
        "!pip install -U -q PyDrive\n",
        "from pydrive.auth import GoogleAuth\n",
        "from pydrive.drive import GoogleDrive\n",
        "from google.colab import auth\n",
        "from oauth2client.client import GoogleCredentials\n",
        "\n",
        "# Authenticate and create the PyDrive client.\n",
        "# This only needs to be done once per notebook.\n",
        "auth.authenticate_user()\n",
        "gauth = GoogleAuth()\n",
        "gauth.credentials = GoogleCredentials.get_application_default()\n",
        "drive = GoogleDrive(gauth)\n",
        "module = drive.CreateFile({'id':'1_bGw2qVLG_kRh4pzzceRdVHy82ANnk0C'})\n",
        "module.GetContentFile('ActivationFunctions.ipynb')\n",
        "from ActivationFunctions import *"
      ],
      "execution_count": 0,
      "outputs": []
    }
  ]
}